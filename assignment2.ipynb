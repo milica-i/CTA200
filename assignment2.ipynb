{
 "cells": [
  {
   "cell_type": "code",
   "execution_count": null,
   "metadata": {},
   "outputs": [],
   "source": [
    "import numpy as np\n",
    "import matplotlib.pyplot as plt\n",
    "from scipy.integrate import ode"
   ]
  },
  {
   "cell_type": "markdown",
   "metadata": {},
   "source": [
    "## Question 1"
   ]
  },
  {
   "cell_type": "code",
   "execution_count": null,
   "metadata": {},
   "outputs": [],
   "source": [
    "h = 0.001 #stepsize\n",
    "x0 = 0.1 "
   ]
  },
  {
   "cell_type": "code",
   "execution_count": null,
   "metadata": {},
   "outputs": [],
   "source": [
    "#first function\n",
    "\n",
    "def deriv1(f, x0, h):\n",
    "    \"\"\"Takes in a python function, returns the approximation of the \n",
    "    derivative at x0 using stepsize h.\n",
    "    \"\"\"\n",
    "    \n",
    "    d1 = (f(x0 + h) - f(x0))/h \n",
    "    \n",
    "    return d1\n",
    "    "
   ]
  },
  {
   "cell_type": "code",
   "execution_count": null,
   "metadata": {},
   "outputs": [],
   "source": [
    "deriv1(np.sin, x0, h)"
   ]
  },
  {
   "cell_type": "code",
   "execution_count": null,
   "metadata": {},
   "outputs": [],
   "source": [
    "# second function\n",
    "\n",
    "def deriv2(f, x0, h):\n",
    "    \"\"\"Takes in a python function, returns the approximation of the \n",
    "    derivative at x0 using stepsize h.\n",
    "    \"\"\"\n",
    "    \n",
    "    d2 = (f(x0 + h) - f(x0 - h))/(2*h)\n",
    "    \n",
    "    return d2"
   ]
  },
  {
   "cell_type": "code",
   "execution_count": null,
   "metadata": {},
   "outputs": [],
   "source": [
    "deriv2(np.sin, x0, h)"
   ]
  },
  {
   "cell_type": "code",
   "execution_count": null,
   "metadata": {},
   "outputs": [],
   "source": [
    "#plotting the error compared to the analytic derivative as a function of h \n",
    "\n",
    "dt = 0.01 #step size\n",
    "harray = np.arange(0.1, 1, dt)\n",
    "\n",
    "#first approximation\n",
    "errors1 = [] #initialize error list\n",
    "for i in harray:\n",
    "    d_numerical1 = deriv1(np.sin, x0, i)\n",
    "    d_analytic = np.cos(x0)\n",
    "    error1 = abs((d_numerical1 - d_analytic)/d_analytic)\n",
    "    errors1.append(error1) #add calculated error to errors1\n",
    "\n",
    "#second approximation\n",
    "errors2 = []\n",
    "for i in harray:\n",
    "    d_numerical2 = deriv2(np.sin, x0, i)\n",
    "    error2 = abs((d_numerical2 - d_analytic)/d_analytic)\n",
    "    errors2.append(error2) #add calculated error to errors2\n",
    "    \n",
    "    \n",
    "plt.loglog(harray, errors1, label = 'First method')\n",
    "plt.loglog(harray, errors2, label = 'Second method')\n",
    "plt.xlabel('log(h)')\n",
    "plt.ylabel('log(error)')\n",
    "plt.title('Errors as a function of h for the 2 different approximations')\n",
    "plt.legend()\n",
    "plt.savefig('Question1plot.pdf')"
   ]
  },
  {
   "cell_type": "markdown",
   "metadata": {},
   "source": [
    "## Question 2"
   ]
  },
  {
   "cell_type": "code",
   "execution_count": null,
   "metadata": {},
   "outputs": [],
   "source": [
    "#x and y values\n",
    "xs = np.linspace(-2,2,1000)\n",
    "ys = y = np.linspace(-2,2,1000)\n",
    "c = xs + (1j)*ys\n",
    "\n",
    "z0 = 0"
   ]
  },
  {
   "cell_type": "code",
   "execution_count": null,
   "metadata": {},
   "outputs": [],
   "source": [
    "def iteration(c, lim):\n",
    "    \"\"\"Takes a complex number and a limit lim on the outputs. \n",
    "    Returns a list of z_i values after iterating.\"\"\"\n",
    "    z_i = []\n",
    "    i = 0\n",
    "    while i < 30: # 30 was an arbitrary choice\n",
    "        if i == 0:\n",
    "            z1 = z0**2 + c # z_(i+1) for i = 0\n",
    "            z_i.append(z1)\n",
    "        if i > 0:\n",
    "            zip1 = z_i[i-1]**2 + c # zip1 stands for z_(i+1) \"z i plus 1\"\n",
    "            z_i.append(zip1)\n",
    "        if abs(z_i[i]) > lim: #lim is an arbitrary choice\n",
    "            break\n",
    "        i += 1\n",
    "    return z_i"
   ]
  },
  {
   "cell_type": "code",
   "execution_count": null,
   "metadata": {},
   "outputs": [],
   "source": [
    "def plot_complex(x, y,lim):\n",
    "\n",
    "    \"\"\"Plots an image where points that diverge are in blue and \n",
    "        bounded points are in orange.\"\"\"\n",
    "    \n",
    "    x_bounded=[]\n",
    "    y_bounded=[]\n",
    "    \n",
    "    x_diverge=[]\n",
    "    y_diverge=[]\n",
    "    \n",
    "    for a in x:\n",
    "        for b in y:\n",
    "            complex_num = complex(a, b)\n",
    "            k = iteration(complex_num, lim)\n",
    "        \n",
    "            if abs(k[-1]) <2:\n",
    "                x_bounded.append(a)\n",
    "                y_bounded.append(b)\n",
    "                \n",
    "            else:\n",
    "                x_diverge.append(a)\n",
    "                y_diverge.append(b)\n",
    "                \n",
    "    plt.scatter(x_diverge,y_diverge, alpha=0.6, label = 'Divergent')    \n",
    "    plt.scatter(x_bounded,y_bounded, label='Bounded', s=2)\n",
    "    plt.legend()\n",
    "    plt.xlabel('x')\n",
    "    plt.ylabel('y')\n",
    "    plt.title('Divergent and bounded points on complex plane')\n",
    "    plt.savefig('divbound.pdf')"
   ]
  },
  {
   "cell_type": "code",
   "execution_count": null,
   "metadata": {},
   "outputs": [],
   "source": [
    "%%time\n",
    "\n",
    "plot_complex(xs,ys, 1e30)"
   ]
  },
  {
   "cell_type": "code",
   "execution_count": null,
   "metadata": {},
   "outputs": [],
   "source": [
    "# Making the second image\n",
    "\n",
    "def final_plot(x,y,lim):\n",
    "    xplot = []\n",
    "    yplot = []\n",
    "    num_it = []\n",
    "    for i in x:\n",
    "        for k in y:\n",
    "            xplot.append(i)\n",
    "            yplot.append(k)\n",
    "            point = complex(i,k)\n",
    "            num_it.append(np.size(iteration(point, lim))) \n",
    "    plt.figure(figsize = (8,8))\n",
    "    plt.scatter(xplot, yplot, c=num_it)\n",
    "    plt.colorbar(label='Number of iterations')\n",
    "    plt.xlabel('x')\n",
    "    plt.ylabel('y')\n",
    "    plt.title('Divergence of z on complex plane')\n",
    "    plt.savefig('colourmap.pdf')"
   ]
  },
  {
   "cell_type": "code",
   "execution_count": null,
   "metadata": {},
   "outputs": [],
   "source": [
    "%%time\n",
    "\n",
    "final_plot(xs,ys,2) #limit changes to 2"
   ]
  },
  {
   "cell_type": "markdown",
   "metadata": {},
   "source": [
    "## The smaller the number is on the colour bar, the faster it diverges. This is because the number represents the number of iterations before it diverges, hence why the outer parts of the plot are darker purple."
   ]
  },
  {
   "cell_type": "markdown",
   "metadata": {},
   "source": [
    "## Question 3"
   ]
  },
  {
   "cell_type": "code",
   "execution_count": null,
   "metadata": {},
   "outputs": [],
   "source": [
    "def SIR_model(t, v, N, gamma, beta):\n",
    "    S, I, R = v\n",
    "    return [-1*beta*S*I/N, beta*S*I/N -gamma*I, gamma*I]\n",
    "\n",
    "#parameters\n",
    "N = 1000\n",
    "#arbitrary choices for beta and gamma\n",
    "gamma = 0.1\n",
    "beta = 1\n",
    "\n",
    "#initial conditions\n",
    "t0 =0\n",
    "v0 = [999.0, 1.0, 0.0]\n",
    "\n",
    "#end time, timestep\n",
    "t_end = 200\n",
    "dt = 0.1\n",
    "\n",
    "#array to store results\n",
    "num = 10000\n",
    "times = np.linspace(t0, t_end, num)\n",
    "res = np.empty((num,3))\n",
    "res[0] = v0\n",
    "\n",
    "solver = ode(SIR_model).set_integrator('dopri5').set_initial_value(v0, t0).set_f_params(N, gamma, beta)\n",
    "\n",
    "#solving the equation\n",
    "\n",
    "i = 1\n",
    "while solver.successful() and solver.t < t_end:\n",
    "    solver.integrate(times[i])\n",
    "    res[i] = solver.y\n",
    "    i=i+1\n",
    "    \n",
    "    \n",
    "plt.plot(times, res[:,0], label='S')\n",
    "plt.plot(times, res[:,1], label='I')\n",
    "plt.plot(times, res[:,2], label='R')\n",
    "plt.legend()\n",
    "plt.xlabel('Time')\n",
    "plt.ylabel('Number of people')\n",
    "plt.title('Solutions for gamma = 0.1 and beta = 1')\n",
    "plt.savefig('gamma = 0.1 and beta = 1.pdf')"
   ]
  },
  {
   "cell_type": "code",
   "execution_count": null,
   "metadata": {},
   "outputs": [],
   "source": [
    "#changing gamma and beta values\n",
    "\n",
    "def SIR_model(t, v, N, gamma, beta):\n",
    "    S, I, R = v\n",
    "    return [-1*beta*S*I/N, beta*S*I/N -gamma*I, gamma*I]\n",
    "\n",
    "#parameters\n",
    "N = 1000\n",
    "#arbitrary choices for beta and gamma\n",
    "gamma = 0.5\n",
    "beta = 0.5\n",
    "\n",
    "#initial conditions\n",
    "t0 =0\n",
    "v0 = [999.0, 1.0, 0.0]\n",
    "\n",
    "#end time, timestep\n",
    "t_end = 200\n",
    "dt = 0.1\n",
    "\n",
    "#array to store results\n",
    "num = 10000\n",
    "times = np.linspace(t0, t_end, num)\n",
    "res = np.empty((num,3))\n",
    "res[0] = v0\n",
    "\n",
    "solver = ode(SIR_model).set_integrator('dopri5').set_initial_value(v0, t0).set_f_params(N, gamma, beta)\n",
    "\n",
    "#solving the equation\n",
    "\n",
    "i = 1\n",
    "while solver.successful() and solver.t < t_end:\n",
    "    solver.integrate(times[i])\n",
    "    res[i] = solver.y\n",
    "    i=i+1\n",
    "    \n",
    "    \n",
    "plt.plot(times, res[:,0], label='S')\n",
    "plt.plot(times, res[:,1], label='I')\n",
    "plt.plot(times, res[:,2], label='R')\n",
    "plt.legend()\n",
    "plt.xlabel('Time')\n",
    "plt.ylabel('Number of people')\n",
    "plt.title('Solutions for gamma = 0.5 and beta = 0.5')\n",
    "plt.savefig('gamma = 0.5 and beta = 0.5.pdf')"
   ]
  },
  {
   "cell_type": "code",
   "execution_count": null,
   "metadata": {},
   "outputs": [],
   "source": [
    "#changing the gamma and beta values\n",
    "def SIR_model(t, v, N, gamma, beta):\n",
    "    S, I, R = v\n",
    "    return [-1*beta*S*I/N, beta*S*I/N -gamma*I, gamma*I]\n",
    "\n",
    "#parameters\n",
    "N = 1000\n",
    "#arbitrary choices for beta and gamma\n",
    "gamma = 1\n",
    "beta = 0.5\n",
    "\n",
    "#initial conditions\n",
    "t0 =0\n",
    "v0 = [999.0, 1.0, 0.0]\n",
    "\n",
    "#end time, timestep\n",
    "t_end = 200\n",
    "dt = 0.1\n",
    "\n",
    "#array to store results\n",
    "num = 10000\n",
    "times = np.linspace(t0, t_end, num)\n",
    "res = np.empty((num,3))\n",
    "res[0] = v0\n",
    "\n",
    "solver = ode(SIR_model).set_integrator('dopri5').set_initial_value(v0, t0).set_f_params(N, gamma, beta)\n",
    "\n",
    "#solving the equation\n",
    "\n",
    "i = 1\n",
    "while solver.successful() and solver.t < t_end:\n",
    "    solver.integrate(times[i])\n",
    "    res[i] = solver.y\n",
    "    i=i+1\n",
    "    \n",
    "    \n",
    "plt.plot(times, res[:,0], label='S')\n",
    "plt.plot(times, res[:,1], label='I')\n",
    "plt.plot(times, res[:,2], label='R')\n",
    "plt.legend()\n",
    "plt.xlabel('Time')\n",
    "plt.ylabel('Number of people')\n",
    "plt.title('Solutions for gamma = 1 and beta = 0.5')\n",
    "plt.savefig('gamma = 1 and beta = 0.5.pdf')"
   ]
  },
  {
   "cell_type": "code",
   "execution_count": null,
   "metadata": {},
   "outputs": [],
   "source": []
  },
  {
   "cell_type": "code",
   "execution_count": null,
   "metadata": {},
   "outputs": [],
   "source": []
  }
 ],
 "metadata": {
  "kernelspec": {
   "display_name": "Python 3",
   "language": "python",
   "name": "python3"
  },
  "language_info": {
   "codemirror_mode": {
    "name": "ipython",
    "version": 3
   },
   "file_extension": ".py",
   "mimetype": "text/x-python",
   "name": "python",
   "nbconvert_exporter": "python",
   "pygments_lexer": "ipython3",
   "version": "3.7.6"
  }
 },
 "nbformat": 4,
 "nbformat_minor": 4
}
