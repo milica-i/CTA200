{
 "cells": [
  {
   "cell_type": "code",
   "execution_count": 39,
   "metadata": {},
   "outputs": [],
   "source": [
    "import numpy as np\n",
    "import matplotlib.pyplot as plt\n",
    "%matplotlib inline"
   ]
  },
  {
   "cell_type": "markdown",
   "metadata": {},
   "source": [
    "## Integration using Hermite Individual Timestep Scheme (HITS)"
   ]
  },
  {
   "cell_type": "code",
   "execution_count": 40,
   "metadata": {},
   "outputs": [],
   "source": [
    "G = 6.67e-11 #graviational constant, SI units\n",
    "m = 1 #mass\n",
    "epsilon = 0.001 #softening parameter"
   ]
  },
  {
   "cell_type": "code",
   "execution_count": 41,
   "metadata": {},
   "outputs": [],
   "source": [
    "def initialize(N):\n",
    "    \n",
    "    \"\"\"This function initializes a set of positions for N number of stars.\"\"\"\n",
    "    \n",
    "    r=np.zeros((N,3))\n",
    "    for i in range(0,N):\n",
    "        r[i] = np.random.normal(0, 1, 3) #centered at origin, standard deviation of 1, size\n",
    "        \n",
    "    return r"
   ]
  },
  {
   "cell_type": "code",
   "execution_count": 51,
   "metadata": {},
   "outputs": [],
   "source": [
    "N = 100 # number of stars\n",
    "r0=initialize(N)"
   ]
  },
  {
   "cell_type": "code",
   "execution_count": 52,
   "metadata": {},
   "outputs": [],
   "source": [
    "#get velocity from position using Kepler's Third Law\n",
    "\n",
    "def get_velocity(r):\n",
    "    \n",
    "    \"\"\"This function takes an array of position components for individual stars and finds\n",
    "    the period using Kepler's Third Law, and then finds velocity using T=2piR/v\"\"\"\n",
    "    \n",
    "    v=np.zeros(r.shape)\n",
    "    period_array = np.zeros(r.shape)\n",
    "    for i in range(0,len(r)): #iterate through each set of position components\n",
    "        radius = np.linalg.norm(r[i])  #get total radius\n",
    "        #get period from radius, then get velocity\n",
    "        period_array[i] = np.sqrt((4*(np.pi)/(G*m))*np.absolute(radius**3))\n",
    "        v[i] = (2*np.pi*(radius)/period_array[i])\n",
    "        \n",
    "    return np.array(v) \n",
    "    "
   ]
  },
  {
   "cell_type": "code",
   "execution_count": 53,
   "metadata": {},
   "outputs": [],
   "source": [
    "# force calculation\n",
    "def force_calc(pos, vel, index):\n",
    "\n",
    "    \"\"\"This function evaluates the acceleration and jerk for a specific star using\n",
    "    equation 2 in Aarseth & Makino. It takes the position, velocity, and index of the star.\"\"\"\n",
    "    \n",
    "   \n",
    "    accels=np.zeros((len(pos),3))\n",
    "    jerks = np.zeros((len(pos),3))\n",
    "    \n",
    "    #for each particle, need to loop over all other particles to calculate acceleration\n",
    "    #here \"index\" is i in the equation and \"star\" is j in the equation from Aarseth and Makino\n",
    "    for star in range(0, len(pos)):\n",
    "        if star != index:\n",
    "            mag = np.linalg.norm(pos[star] - pos[index])\n",
    "            accels[star] = G*m*(pos[star] - pos[index])/((mag)**2 + epsilon*mag)**(3/2)\n",
    "            jerks[star] = G*m*((vel[star] - vel[index])/(mag**2 + (epsilon*mag)**2)**(3/2) \n",
    "                + (3*(np.dot(vel[star] - vel[index],pos[star] - pos[index]))*(pos[star] - pos[index]))/(mag**2 \n",
    "                                                                            + (epsilon*mag)**2)**(5/2))\n",
    "            \n",
    "    return np.sum(accels,axis=0), np.sum(jerks,axis=0)"
   ]
  },
  {
   "cell_type": "code",
   "execution_count": 54,
   "metadata": {},
   "outputs": [],
   "source": [
    "def prediction(pos, vel, index):\n",
    "    \n",
    "    \"\"\"This function takes in the initial positions and velocities, calls the force_calc function \n",
    "    to get a prediction of the initial acceleration, then predicts the next position and velocity of the particle\n",
    "    using Equation 1 in the Aarseth and Makino paper.\"\"\"\n",
    "    \n",
    "    r_pred = pos[index] + vel[index]*dt + (1/2)*(force_calc(pos,vel,index)[0])*dt**2 \n",
    "    + (1/6)*(force_calc(pos,vel,index)[1])*dt**3\n",
    "    v_pred = vel[index] + (force_calc(pos,vel,index)[0])*dt + (1/2)*(force_calc(pos,vel,index)[1])*dt**2\n",
    "    \n",
    "    return r_pred, v_pred\n",
    "    "
   ]
  },
  {
   "cell_type": "code",
   "execution_count": 55,
   "metadata": {},
   "outputs": [],
   "source": [
    "# second derivative of acceleration\n",
    "def second_deriv(pos0, vel0, index): #make inputs accel and jerk\n",
    "    second_deriv = ((-6)*(force_calc(pos0,vel0,index)[0] - force_calc(pos0, vel0, index)[0]) \n",
    "                    - dt*(4*force_calc(pos0,vel0,index)[1] + 2*force_calc(pos0,vel0,index)[1]))/(dt**2) \n",
    "    return second_deriv\n",
    "\n",
    "#third derivative of acceleration\n",
    "def third_deriv(pos0, vel0, index):\n",
    "    third_deriv = ((-12)*(force_calc(pos0,vel0,index)[0] - force_calc(pos0, vel0, index)[0]) \n",
    "                   - 6*dt*(force_calc(pos0,vel0,index)[1] + force_calc(pos0,vel0,index)[1]))/(dt**3)\n",
    "    \n",
    "    return third_deriv\n",
    "\n",
    "\n",
    "#third-order hermite interpolation polynomial\n",
    "def interpol_polynomial(pos0, vel0,index):\n",
    "    \n",
    "    \"\"\"This function takes the initial positions and velocities and \n",
    "    uses Equation 4 in Aarseth & Makino to get the third-order Hermite interpolation polynomial.\"\"\"\n",
    "    \n",
    "    inter_poly =  force_calc(pos0, vel0,index)[0] + force_calc(pos0, vel0,index)[1] \n",
    "    + (1/2)*(dt**2)*(second_deriv(pos0, vel0, index)) + (1/6)*(dt**3)*(third_deriv(pos0,vel0,index))\n",
    "    \n",
    "    return inter_poly\n",
    "\n",
    "#position and velocity correction \n",
    "\n",
    "def correction(pos0, vel0, index): #change inputs\n",
    "    \n",
    "    \"\"\"This function takes the initial positions and velocities, and uses \n",
    "    Equation 6 in Aarseth & Makino to get the corrected position and velocities.\"\"\"\n",
    "    r_correct = prediction(pos0,vel0,index)[0] + (1/24)*(dt**4)*(second_deriv(pos0,vel0,index)) \n",
    "    + (1/120)*(dt**5)*(third_deriv(pos0,vel0,index))\n",
    "    \n",
    "    v_correct = prediction(pos0, vel0, index)[1] + (1/4)*(dt**3)*(second_deriv(pos0,vel0,index))\n",
    "    + (1/24)*(dt**4)*third_deriv(pos0, vel0, index)\n",
    "    \n",
    "    return r_correct, v_correct\n"
   ]
  },
  {
   "cell_type": "code",
   "execution_count": 56,
   "metadata": {},
   "outputs": [],
   "source": [
    "#initial time step, need this for initial calculations, equation 9 from Aarseth & Makino\n",
    "eta_s = 0.01 #from Aarseth and Makino \n",
    "dt = eta_s*(np.linalg.norm(force_calc(r0, get_velocity(r0), 0)[0]))/(np.linalg.norm(force_calc(r0, get_velocity(r0),\n",
    "                                                                                               0)[1])) \n",
    "def timestep(pos0,vel0,index):\n",
    "    \n",
    "    \"\"\"This function updates the timestep using equation 7 from Aarseth and Makino.\"\"\"\n",
    "    \n",
    "    eta = 0.01 #accuracy parameter used for timestep\n",
    "    \n",
    "    abs_accel = np.linalg.norm(force_calc(pos0,vel0,index)[0])\n",
    "    #equation 8 from Aarseth & Makino\n",
    "    abs_second_deriv = np.linalg.norm(second_deriv(pos0,vel0,index) + dt*third_deriv(pos0,vel0,index))\n",
    "    \n",
    "    abs_third_deriv = np.linalg.norm(third_deriv(pos0,vel0,index))\n",
    "    \n",
    "    abs_jerk = np.linalg.norm(force_calc(pos0,vel0,index)[1])\n",
    "    \n",
    "    timestep = np.sqrt(eta*(abs_accel*abs_second_deriv + abs_jerk**2)/(abs_jerk*abs_third_deriv + abs_second_deriv**2))\n",
    "    \n",
    "    return timestep"
   ]
  },
  {
   "cell_type": "code",
   "execution_count": 57,
   "metadata": {},
   "outputs": [],
   "source": [
    "#total energy\n",
    "\n",
    "def tot_energy(r,v):\n",
    "    \n",
    "    \"\"\"This function takes an array of positions and velocities of stars and calculates total energy.\"\"\"\n",
    "    \n",
    "    potential = np.zeros((len(v),3))\n",
    "    kinetic = np.zeros((len(v),3))\n",
    "    \n",
    "    for i in range(0,len(v)):\n",
    "        kinetic[i] = (1/2)*m*v[i]**2\n",
    "        #note, it was assumed the distance between all the stars are the same, so potential energy may be innacurate\n",
    "        potential[i] = -G*(m**2)/r[i]\n",
    "        \n",
    "        \n",
    "    return kinetic + potential"
   ]
  },
  {
   "cell_type": "code",
   "execution_count": 58,
   "metadata": {},
   "outputs": [],
   "source": [
    "t = 0\n",
    "tfinal = 0.1\n",
    "accel = np.zeros((N,3))\n",
    "jerk = np.zeros((N,3))\n",
    "pos_pred = np.zeros((N,3))\n",
    "vel_pred = np.zeros((N,3))\n",
    "pos_correct = np.zeros((N,3))\n",
    "vel_correct = np.zeros((N,3))\n",
    "dtime = np.ones(N)*dt\n",
    "energy = np.zeros((N,3))\n",
    "\n",
    "while t < tfinal:\n",
    "    for star in range(0,N):\n",
    "        #calculate initial acceleration and jerk experienced by star\n",
    "        accel[star],jerk[star] = force_calc(r0,get_velocity(r0),star)\n",
    "        #predict each stars location\n",
    "        pos_pred[star], vel_pred[star] = prediction(r0,get_velocity(r0),star) \n",
    "        \n",
    "    for star in range(0,N):\n",
    "        #correct\n",
    "        pos_correct[star], vel_correct[star] = correction(r0,get_velocity(r0),star) \n",
    "        \n",
    "        #update timestep for this star, make array of timesteps and take the minimum\n",
    "        dtime[star] = timestep(r0, get_velocity(r0),star) \n",
    "        \n",
    "        #energy[star] = tot_energy(pos_correct[star], vel_correct[star])[star]\n",
    "    \n",
    "    dt = np.amin(dtime)\n",
    "    t += dt #dt is the new calculated timesteps"
   ]
  },
  {
   "cell_type": "code",
   "execution_count": 59,
   "metadata": {},
   "outputs": [
    {
     "data": {
      "text/plain": [
       "Text(0.5, 1.0, 'Initial and final Positions of N stars in a cluster')"
      ]
     },
     "execution_count": 59,
     "metadata": {},
     "output_type": "execute_result"
    },
    {
     "data": {
      "image/png": "[encoded data removed]",
      "text/plain": [
       "<Figure size 720x720 with 1 Axes>"
      ]
     },
     "metadata": {
      "needs_background": "light"
     },
     "output_type": "display_data"
    }
   ],
   "source": [
    "plt.figure(figsize=(10,10))\n",
    "\n",
    "for i in range(0, N):\n",
    "    plt.scatter(r0[i][0], r0[i][1],label='Initial Position' if i==0 else\"\")\n",
    "    plt.scatter(pos_correct[i][0], pos_correct[i][1], marker='+',label='Final Position'if i==0 else\"\")\n",
    "    \n",
    "\n",
    "\n",
    "plt.grid()\n",
    "plt.xlabel('x')\n",
    "plt.ylabel('y')\n",
    "plt.legend()\n",
    "plt.title('Initial and final Positions of N stars in a cluster')"
   ]
  },
  {
   "cell_type": "code",
   "execution_count": null,
   "metadata": {},
   "outputs": [],
   "source": []
  }
 ],
 "metadata": {
  "kernelspec": {
   "display_name": "Python 3",
   "language": "python",
   "name": "python3"
  },
  "language_info": {
   "codemirror_mode": {
    "name": "ipython",
    "version": 3
   },
   "file_extension": ".py",
   "mimetype": "text/x-python",
   "name": "python",
   "nbconvert_exporter": "python",
   "pygments_lexer": "ipython3",
   "version": "3.7.6"
  }
 },
 "nbformat": 4,
 "nbformat_minor": 4
}
